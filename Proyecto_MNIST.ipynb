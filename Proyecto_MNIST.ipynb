{
  "nbformat": 4,
  "nbformat_minor": 0,
  "metadata": {
    "colab": {
      "provenance": [],
      "include_colab_link": true
    },
    "kernelspec": {
      "name": "python3",
      "display_name": "Python 3"
    },
    "language_info": {
      "name": "python"
    }
  },
  "cells": [
    {
      "cell_type": "markdown",
      "metadata": {
        "id": "view-in-github",
        "colab_type": "text"
      },
      "source": [
        "<a href=\"https://colab.research.google.com/github/nh0875/Aprendizaje-Automatico-ll/blob/main/Proyecto_MNIST.ipynb\" target=\"_parent\"><img src=\"https://colab.research.google.com/assets/colab-badge.svg\" alt=\"Open In Colab\"/></a>"
      ]
    },
    {
      "cell_type": "markdown",
      "source": [
        "# Trabajo práctico nro 1 de AA2.\n",
        "\n",
        "**Juan Ignacio Hilliard Bochaca**\n",
        "\n",
        "\n",
        "Resolver las consignas comentando el código fuente, indicando desde dónde fue extraido o generado.\n",
        "\n",
        "Justificar cada paso realizado.\n",
        "\n",
        "Publique enlace público a su notebook en google colab y también enlace a su repositorio github de la materia.\n",
        "\n",
        "\n",
        "\n",
        "\n",
        "\n",
        "\n"
      ],
      "metadata": {
        "id": "cUWQ3OdVnEiA"
      }
    },
    {
      "cell_type": "markdown",
      "source": [
        "# Carga de librerías"
      ],
      "metadata": {
        "id": "nrGazJqlnTJy"
      }
    },
    {
      "cell_type": "code",
      "source": [
        "import torch\n",
        "import torch.nn as nn\n",
        "import torch.optim as optim\n",
        "from torch.utils.data import DataLoader\n",
        "from torch.utils.data import Dataset\n",
        "from torchvision import datasets, transforms\n"
      ],
      "metadata": {
        "id": "K9lzt1PIlunF"
      },
      "execution_count": null,
      "outputs": []
    },
    {
      "cell_type": "markdown",
      "source": [
        "## 1- Usar pytorch para crear una clase que herede de dataset para crear un dataset propio.\n",
        "\n",
        "El dataset está basado en el original de MNIST. En este dataset sólo se guardan dos de las 10 clases del dataset original\n"
      ],
      "metadata": {
        "id": "4eMP1kjQlyy6"
      }
    },
    {
      "cell_type": "code",
      "source": [
        "# prompt: usar pytorch para crear una clase que herede de dataset para crear un dataset propio. El dataset está basado en el original de MNIST. En este dataset sólo se guardan dos de las 10 clases del dataset original\n",
        "\n",
        "import torch\n",
        "from torch.utils.data import Dataset\n",
        "from torchvision import datasets, transforms\n",
        "\n",
        "class MNISTSubset(Dataset):\n",
        "    def __init__(self, root='./data', train=True, download=True, transform=None, target_classes=[0, 1]):\n",
        "        self.mnist_dataset = datasets.MNIST(root=root, train=train, download=download, transform=transform)\n",
        "        self.target_classes = target_classes\n",
        "        self.indices = [i for i, target in enumerate(self.mnist_dataset.targets) if target in self.target_classes]\n",
        "        self.targets = [self.mnist_dataset.targets[i] for i in self.indices]\n",
        "\n",
        "        # Remap targets to 0 and 1\n",
        "        self.targets = [self.target_classes.index(target) for target in self.targets]\n",
        "        self.targets = torch.tensor(self.targets)\n",
        "\n",
        "\n",
        "    def __len__(self):\n",
        "        return len(self.indices)\n",
        "\n",
        "    def __getitem__(self, idx):\n",
        "        image, _ = self.mnist_dataset[self.indices[idx]] # Get image from original MNIST dataset\n",
        "        target = self.targets[idx] # Get corresponding remapped target\n",
        "\n",
        "        return image, target\n",
        "\n",
        "\n",
        "\n"
      ],
      "metadata": {
        "id": "BTnGwWaZlaj2"
      },
      "execution_count": null,
      "outputs": []
    },
    {
      "cell_type": "markdown",
      "source": [
        "En el siguiente ejemplo, se eligen las clases 3 y 8.\n",
        "La idea es elegir números que sean algo similares para evaluar cómo nuestras distintas configuraciones de ANN se comportan a distinguir ambas clases.\n",
        "\n",
        "Puede elegir por ejemplo:\n",
        "\n",
        "* 3 y 8\n",
        "* 7  y 4\n",
        "* 0 y 8\n",
        "* 6 y 8\n",
        "* 2 y 4\n",
        "* 5 y 6\n",
        "\n",
        "### Elija pronto cuáles clases quiere distinguir y postee en el foro."
      ],
      "metadata": {
        "id": "n-Mm7-wXoA1d"
      }
    },
    {
      "cell_type": "code",
      "source": [
        "\n",
        "transform = transforms.Compose([transforms.ToTensor()])\n",
        "mnist_subset = MNISTSubset(train=True, transform=transform, target_classes=[2, 4])\n"
      ],
      "metadata": {
        "id": "NU1BCG9OoCi2"
      },
      "execution_count": null,
      "outputs": []
    },
    {
      "cell_type": "markdown",
      "source": [
        "## 2- Usar el dataset anterior para crear una red neuronal profunda en Pytorch para aprender un clasificador binario.\n",
        "\n",
        "Debe contemplar tres tipos de configuraciones:\n",
        "\n",
        "* 2.1 Una donde se muestre subajuste (underfitting).\n",
        "* 2.2 Una donde considere que su funcionamiento es aceptable\n",
        "* 2.3 Una donde demuestre un comportamiento de overfitting o sobreajuste.\n",
        "\n",
        "Puede utilizar sólo nn.Linear y funciones de activación. Es sólo las redes neuronales que ya aprendieron con varias capas / unidades ocultas y funciones de activación.\n",
        "\n",
        "\n"
      ],
      "metadata": {
        "id": "SwePA2pil8K2"
      }
    },
    {
      "cell_type": "markdown",
      "source": [
        "### 2.1 Red que subajusta"
      ],
      "metadata": {
        "id": "YTcluc9tluR0"
      }
    },
    {
      "cell_type": "code",
      "source": [
        "class Modelo_NN_subajusta(nn.Module):\n",
        "    def __init__(self):\n",
        "        super().__init__()\n",
        "        # completar\n",
        "\n",
        "    def forward(self, x):\n",
        "        #completar"
      ],
      "metadata": {
        "id": "Q7YImAJCp9xt"
      },
      "execution_count": null,
      "outputs": []
    },
    {
      "cell_type": "markdown",
      "source": [
        "### 2.2 Red que sobre ajusta"
      ],
      "metadata": {
        "id": "I53N6t1Goxm7"
      }
    },
    {
      "cell_type": "code",
      "source": [
        "class Modelo_NN_SobreAjustado(nn.Module):\n",
        "    def __init__(self):\n",
        "        super().__init__()\n",
        "        # completar\n",
        "\n",
        "    def forward(self, x):\n",
        "        #completar"
      ],
      "metadata": {
        "id": "eqwHyhaklaI0"
      },
      "execution_count": null,
      "outputs": []
    },
    {
      "cell_type": "markdown",
      "source": [
        "### 2.3 MLP aceptable"
      ],
      "metadata": {
        "id": "eFwxcO8Jo2Gd"
      }
    },
    {
      "cell_type": "code",
      "source": [
        "class Modelo_NN_aceptable(nn.Module):\n",
        "    def __init__(self):\n",
        "        super().__init__()\n",
        "        # completar\n",
        "\n",
        "    def forward(self, x):\n",
        "        #completar"
      ],
      "metadata": {
        "id": "hfLAEh9bo2YS"
      },
      "execution_count": null,
      "outputs": []
    },
    {
      "cell_type": "markdown",
      "source": [
        "## 3 - Entrene las redes anteriores, muestre los resultados durante su entrenamiento, validación. Indique las métricas utilizadas. Justifique."
      ],
      "metadata": {
        "id": "w44bC7m8mlVR"
      }
    },
    {
      "cell_type": "markdown",
      "source": [],
      "metadata": {
        "id": "RPIueWomnmmR"
      }
    },
    {
      "cell_type": "markdown",
      "source": [
        "### 3.1 Cargue los datos, divida los conjuntos de datos"
      ],
      "metadata": {
        "id": "Rl9yhJ_jnnWO"
      }
    },
    {
      "cell_type": "code",
      "source": [],
      "metadata": {
        "id": "H0pJliS5mzXz"
      },
      "execution_count": null,
      "outputs": []
    },
    {
      "cell_type": "markdown",
      "source": [
        "### 3.2 Entrene cada modelo."
      ],
      "metadata": {
        "id": "f5Dd4WDLnraj"
      }
    },
    {
      "cell_type": "markdown",
      "source": [],
      "metadata": {
        "id": "HaYhiG3JReqd"
      }
    },
    {
      "cell_type": "code",
      "source": [],
      "metadata": {
        "id": "ZXuaJnMUr_nO"
      },
      "execution_count": null,
      "outputs": []
    },
    {
      "cell_type": "markdown",
      "source": [
        "### 3.3 Muestre y compare los resultados de cada modelo entre conjuntos de entrenamiento y testeo."
      ],
      "metadata": {
        "id": "DTl-jUhJRgdR"
      }
    },
    {
      "cell_type": "markdown",
      "source": [
        "Muestre y compare los resultados de cada modelo entre conjuntos de entrenamiento y testeo. Escriba sus conclusiones y pasos realizados.\n",
        "\n"
      ],
      "metadata": {
        "id": "aO8adC4pTLPU"
      }
    },
    {
      "cell_type": "code",
      "source": [],
      "metadata": {
        "id": "PKO-BN5sTLpo"
      },
      "execution_count": null,
      "outputs": []
    },
    {
      "cell_type": "markdown",
      "source": [
        "## 3.4 ¿ Cómo elije el \"modelo aceptable\" o modelo óptimo?\n"
      ],
      "metadata": {
        "id": "AmW-B1A_Th9s"
      }
    },
    {
      "cell_type": "markdown",
      "source": [
        "Describa y programe el procedimiento para determinar un modelo óptimo dado un rango de configuraciones ( por ejemplo dos capas ocultas e ir incrementando unidades ocultas desde un valor inicial a uno final)."
      ],
      "metadata": {
        "id": "2p5jljV8TkEv"
      }
    },
    {
      "cell_type": "code",
      "source": [],
      "metadata": {
        "id": "hYymiY_vTkig"
      },
      "execution_count": null,
      "outputs": []
    },
    {
      "cell_type": "markdown",
      "source": [
        "# Conclusiones"
      ],
      "metadata": {
        "id": "ZwPW4DsesBUx"
      }
    },
    {
      "cell_type": "markdown",
      "source": [
        "# Referencias"
      ],
      "metadata": {
        "id": "CT7vadrdsDDn"
      }
    }
  ]
}